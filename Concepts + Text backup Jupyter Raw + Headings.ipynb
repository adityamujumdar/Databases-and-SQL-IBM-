{
 "cells": [
  {
   "cell_type": "markdown",
   "metadata": {},
   "source": [
    "## Week 1"
   ]
  },
  {
   "cell_type": "markdown",
   "metadata": {},
   "source": [
    "### Syntax to create a table"
   ]
  },
  {
   "cell_type": "raw",
   "metadata": {},
   "source": [
    "create table TABLENAME (\n",
    "    COLUMN1 datatype,\n",
    "    COLUMN2 datatype,\n",
    "    COLUMN3 datatype,\n",
    "    );"
   ]
  },
  {
   "cell_type": "raw",
   "metadata": {},
   "source": [
    "# creating a table in SQL\n",
    "\n",
    "create table COUNTRY (\n",
    "    ID int,\n",
    "    CCODE char(2),\n",
    "    NAME varchar(60)\n",
    ");"
   ]
  },
  {
   "cell_type": "raw",
   "metadata": {},
   "source": [
    "# additional keywords\n",
    "# varchar is variable length and char is fixed length\n",
    "# in char, any remaining space is padded with blanks\n",
    "\n",
    "create table COUNTRY (\n",
    "    ID int NOT NULL,\n",
    "    CCODE char(2),\n",
    "    NAME varchar(60),\n",
    "    PRIMARY KEY (ID)\n",
    ");"
   ]
  },
  {
   "cell_type": "raw",
   "metadata": {},
   "source": [
    "If a table you're trying to create already exists in database, then you will get an error. To go around this, change the name of your table or drop it from the database. "
   ]
  },
  {
   "cell_type": "markdown",
   "metadata": {},
   "source": [
    "### SELECT Statement"
   ]
  },
  {
   "cell_type": "raw",
   "metadata": {},
   "source": [
    "SELECT statement is used to read and modify data. The statement is a Query which outputs a result set/table.\n",
    "\n",
    "-> select * from tablename;\n",
    "-> select <column 1>, <column 2> from tablename;"
   ]
  },
  {
   "cell_type": "raw",
   "metadata": {},
   "source": [
    "WHERE clause helps to restrict the result set\n",
    "can use different comparison operators\n",
    "\n",
    "\n",
    "-> select ID, CCODE from COUNTRY where ID < 5;\n",
    "OR\n",
    "-> select ID, CCODE from COUNTRY where CCODE = 'USA';"
   ]
  },
  {
   "cell_type": "markdown",
   "metadata": {},
   "source": [
    "### COUNT, DISTINCT, LIMIT functions"
   ]
  },
  {
   "cell_type": "raw",
   "metadata": {},
   "source": [
    "COUNT is a built-in function that retrieves the number of rows matching the query criteria\n",
    "-> select COUNT(*) from tablename;\n",
    "\n",
    "DISTINCT is used to remove duplicate values from a result set\n",
    "\n",
    "LIMIT is used for restricting the number of rows retrieved from database"
   ]
  },
  {
   "cell_type": "markdown",
   "metadata": {},
   "source": [
    "### INSERT Statement"
   ]
  },
  {
   "cell_type": "raw",
   "metadata": {},
   "source": [
    "Insert statement is used to add new data/rows to the table. values and columns should be equal\n",
    "\n",
    "INSERT INTO <tablename> (AUTHOR_ID,FNAME,LNAME,EMAIL,CITY,COUNTRY) VALUES('A2801','Aditya', 'Mujumdar','ammujumd@asu.edu','Tempe', 'USA'),('A2809','Jan', 'Doe','djoe@asu.edu','Tempe', 'USA');"
   ]
  },
  {
   "cell_type": "markdown",
   "metadata": {},
   "source": [
    "### UPDATE & DELETE Statements"
   ]
  },
  {
   "cell_type": "markdown",
   "metadata": {},
   "source": [
    "###### UPDATE"
   ]
  },
  {
   "cell_type": "raw",
   "metadata": {},
   "source": [
    "After data has been added to the created table, it can be changed using UPDATE\n",
    "\n",
    "Author_id   FNAME   LNAME        EMAIL        CITY  COUNTRY\n",
    "A2801      Aditya  Mujumdar ammujumd@asu.edu  Tempe   USA\n",
    "\n",
    "\n",
    "UPDATE <tablename> SET FNAME = 'Jack' LNAME = 'Doe' WHERE AUTHOR_id = A2801;\n",
    "\n"
   ]
  },
  {
   "cell_type": "markdown",
   "metadata": {},
   "source": [
    "###### DELETE"
   ]
  },
  {
   "cell_type": "raw",
   "metadata": {},
   "source": [
    "Delete one or more rows from the Table. If you don't specify where condition, all the data in the table will be deleted\n",
    "\n",
    "DELETE FROM <tablename> WHERE AUTHOR_id IN (A2801);"
   ]
  },
  {
   "cell_type": "markdown",
   "metadata": {},
   "source": [
    "##### Lab 1: Composing and Running basic SQL queries"
   ]
  },
  {
   "cell_type": "raw",
   "metadata": {},
   "source": [
    "drop table INSTRUCTOR;\n",
    "-- create table INSTRUCTOR\n",
    "create table INSTRUCTOR(\n",
    "\tins_id int NOT NULL,\n",
    "\tlastname varchar(50) NOT NULL,\n",
    "\tfirstname varchar(50) NOT NULL,\n",
    "\tcity varchar(20),\n",
    "\tcountry char(2),\n",
    "\tPRIMARY KEY (ins_id)\n",
    ");\n",
    "\n",
    "INSERT INTO INSTRUCTOR (ins_id, lastname, firstname, city, country) VALUES ('1', 'Ahuja', 'Rav', 'Toronto', 'CA');\n",
    "INSERT INTO INSTRUCTOR (ins_id, lastname, firstname, city, country) VALUES ('2', 'Chong', 'Raul', 'Toronto', 'CA'), ('3', 'Vasudevan','Hima','Chicago','US');\n",
    "\n",
    "select * from INSTRUCTOR;\n",
    "select firstname, lastname from INSTRUCTOR where city = 'Toronto';\n",
    "\n",
    "update INSTRUCTOR set city = 'Markham' where ins_id = 1;\n",
    "select * from INSTRUCTOR;\n",
    "\n",
    "delete from INSTRUCTOR where ins_id in 2;\n",
    "\n",
    "select * from INSTRUCTOR;\n",
    "\n",
    "select COUNT(*) from INSTRUCTOR;"
   ]
  }
 ],
 "metadata": {
  "kernelspec": {
   "display_name": "Python 3",
   "language": "python",
   "name": "python3"
  },
  "language_info": {
   "codemirror_mode": {
    "name": "ipython",
    "version": 3
   },
   "file_extension": ".py",
   "mimetype": "text/x-python",
   "name": "python",
   "nbconvert_exporter": "python",
   "pygments_lexer": "ipython3",
   "version": "3.7.4"
  }
 },
 "nbformat": 4,
 "nbformat_minor": 2
}
