{
 "cells": [
  {
   "cell_type": "markdown",
   "metadata": {},
   "source": [
    "## Week 1"
   ]
  },
  {
   "cell_type": "markdown",
   "metadata": {},
   "source": [
    "### Syntax to create a table"
   ]
  },
  {
   "cell_type": "raw",
   "metadata": {},
   "source": [
    "create table TABLENAME (\n",
    "    COLUMN1 datatype,\n",
    "    COLUMN2 datatype,\n",
    "    COLUMN3 datatype,\n",
    "    );"
   ]
  },
  {
   "cell_type": "raw",
   "metadata": {},
   "source": [
    "# creating a table in SQL\n",
    "\n",
    "create table COUNTRY (\n",
    "    ID int,\n",
    "    CCODE char(2),\n",
    "    NAME varchar(60)\n",
    ");"
   ]
  },
  {
   "cell_type": "raw",
   "metadata": {},
   "source": [
    "# additional keywords\n",
    "# varchar is variable length and char is fixed length\n",
    "# in char, any remaining space is padded with blanks\n",
    "\n",
    "create table COUNTRY (\n",
    "    ID int NOT NULL,\n",
    "    CCODE char(2),\n",
    "    NAME varchar(60),\n",
    "    PRIMARY KEY (ID)\n",
    ");"
   ]
  },
  {
   "cell_type": "raw",
   "metadata": {},
   "source": [
    "If a table you're trying to create already exists in database, then you will get an error. To go around this, change the name of your table or drop it from the database. "
   ]
  },
  {
   "cell_type": "markdown",
   "metadata": {},
   "source": [
    "### SELECT Statement"
   ]
  },
  {
   "cell_type": "raw",
   "metadata": {},
   "source": [
    "SELECT statement is used to read and modify data. The statement is a Query which outputs a result set/table.\n",
    "\n",
    "-> select * from tablename;\n",
    "-> select <column 1>, <column 2> from tablename;"
   ]
  },
  {
   "cell_type": "raw",
   "metadata": {},
   "source": [
    "WHERE clause helps to restrict the result set\n",
    "can use different comparison operators\n",
    "\n",
    "\n",
    "-> select ID, CCODE from COUNTRY where ID < 5;\n",
    "OR\n",
    "-> select ID, CCODE from COUNTRY where CCODE = 'USA';"
   ]
  },
  {
   "cell_type": "markdown",
   "metadata": {},
   "source": [
    "### COUNT, DISTINCT, LIMIT functions"
   ]
  },
  {
   "cell_type": "raw",
   "metadata": {},
   "source": [
    "COUNT is a built-in function that retrieves the number of rows matching the query criteria\n",
    "-> select COUNT(*) from tablename;\n",
    "\n",
    "DISTINCT is used to remove duplicate values from a result set\n",
    "\n",
    "LIMIT is used for restricting the number of rows retrieved from database"
   ]
  },
  {
   "cell_type": "markdown",
   "metadata": {},
   "source": [
    "### INSERT Statement"
   ]
  },
  {
   "cell_type": "raw",
   "metadata": {},
   "source": [
    "Insert statement is used to add new data/rows to the table. values and columns should be equal\n",
    "\n",
    "INSERT INTO <tablename> (AUTHOR_ID,FNAME,LNAME,EMAIL,CITY,COUNTRY) VALUES('A2801','Aditya', 'Mujumdar','ammujumd@asu.edu','Tempe', 'USA'),('A2809','Jan', 'Doe','djoe@asu.edu','Tempe', 'USA');"
   ]
  },
  {
   "cell_type": "markdown",
   "metadata": {},
   "source": [
    "### UPDATE & DELETE Statements"
   ]
  },
  {
   "cell_type": "markdown",
   "metadata": {},
   "source": [
    "###### UPDATE"
   ]
  },
  {
   "cell_type": "raw",
   "metadata": {},
   "source": [
    "After data has been added to the created table, it can be changed using UPDATE\n",
    "\n",
    "Author_id   FNAME   LNAME        EMAIL        CITY  COUNTRY\n",
    "A2801      Aditya  Mujumdar ammujumd@asu.edu  Tempe   USA\n",
    "\n",
    "\n",
    "UPDATE <tablename> SET FNAME = 'Jack' LNAME = 'Doe' WHERE AUTHOR_id = A2801;\n",
    "\n"
   ]
  },
  {
   "cell_type": "markdown",
   "metadata": {},
   "source": [
    "###### DELETE"
   ]
  },
  {
   "cell_type": "raw",
   "metadata": {},
   "source": [
    "Delete one or more rows from the Table. If you don't specify where condition, all the data in the table will be deleted\n",
    "\n",
    "DELETE FROM <tablename> WHERE AUTHOR_id IN (A2801);"
   ]
  },
  {
   "cell_type": "markdown",
   "metadata": {},
   "source": [
    "##### Lab 1: Composing and Running basic SQL queries"
   ]
  },
  {
   "cell_type": "raw",
   "metadata": {},
   "source": [
    "drop table INSTRUCTOR;\n",
    "-- create table INSTRUCTOR\n",
    "create table INSTRUCTOR(\n",
    "\tins_id int NOT NULL,\n",
    "\tlastname varchar(50) NOT NULL,\n",
    "\tfirstname varchar(50) NOT NULL,\n",
    "\tcity varchar(20),\n",
    "\tcountry char(2),\n",
    "\tPRIMARY KEY (ins_id)\n",
    ");\n",
    "\n",
    "INSERT INTO INSTRUCTOR (ins_id, lastname, firstname, city, country) VALUES ('1', 'Ahuja', 'Rav', 'Toronto', 'CA');\n",
    "INSERT INTO INSTRUCTOR (ins_id, lastname, firstname, city, country) VALUES ('2', 'Chong', 'Raul', 'Toronto', 'CA'), ('3', 'Vasudevan','Hima','Chicago','US');\n",
    "\n",
    "select * from INSTRUCTOR;\n",
    "select firstname, lastname from INSTRUCTOR where city = 'Toronto';\n",
    "\n",
    "update INSTRUCTOR set city = 'Markham' where ins_id = 1;\n",
    "select * from INSTRUCTOR;\n",
    "\n",
    "delete from INSTRUCTOR where ins_id in 2;\n",
    "\n",
    "select * from INSTRUCTOR;\n",
    "\n",
    "select COUNT(*) from INSTRUCTOR;"
   ]
  },
  {
   "cell_type": "markdown",
   "metadata": {},
   "source": [
    "## Week 2"
   ]
  },
  {
   "cell_type": "markdown",
   "metadata": {},
   "source": [
    "### Using String Patterns, Ranges"
   ]
  },
  {
   "cell_type": "raw",
   "metadata": {},
   "source": [
    "select firstname from INSTRUCTOR where firstname like 'R%';\n",
    "-- % is the wildcard\n",
    "select title, pages from book where pages between 210 and 300;\n",
    "-- gives title, pages from book where pages are inclusively from 210 to 300"
   ]
  },
  {
   "cell_type": "markdown",
   "metadata": {},
   "source": [
    "### Sorting Result Set"
   ]
  },
  {
   "cell_type": "raw",
   "metadata": {},
   "source": [
    "-- sorted in descending order. if ascending, just don't include 'desc'\n",
    "select title, pages from book order by title desc\n",
    "\n",
    "-- column sequence number for pages is 2 so sorts by pages\n",
    "select title, pages from book order by 2\n",
    "\n",
    "-- will only show non-repeating countries\n",
    "select distinct(country) from author\n",
    "\n",
    "-- how many authors come from the same country. Get the count\n",
    "select country, count(country) from author group by country\n",
    "    OR\n",
    "select country, count(country) as count from author group by country\n",
    "\n",
    "HAVING clause (works only with the group by clause)\n",
    "-- check if more than 4 authors from the same country\n",
    "select country, count(country) as count from author group by country having count(country) > 4"
   ]
  },
  {
   "cell_type": "markdown",
   "metadata": {},
   "source": [
    "##### Lab 2 String Patterns, Sorting & Grouping"
   ]
  },
  {
   "cell_type": "raw",
   "metadata": {},
   "source": [
    "CREATE TABLE EMPLOYEES (\n",
    "                            EMP_ID CHAR(9) NOT NULL, \n",
    "                            F_NAME VARCHAR(15) NOT NULL,\n",
    "                            L_NAME VARCHAR(15) NOT NULL,\n",
    "                            SSN CHAR(9),\n",
    "                            B_DATE DATE,\n",
    "                            SEX CHAR,\n",
    "                            ADDRESS VARCHAR(30),\n",
    "                            JOB_ID CHAR(9),\n",
    "                            SALARY DECIMAL(10,2),\n",
    "                            MANAGER_ID CHAR(9),\n",
    "                            DEP_ID CHAR(9) NOT NULL,\n",
    "                            PRIMARY KEY (EMP_ID));\n",
    "                            \n",
    "  CREATE TABLE JOB_HISTORY (\n",
    "                            EMPL_ID CHAR(9) NOT NULL, \n",
    "                            START_DATE DATE,\n",
    "                            JOBS_ID CHAR(9) NOT NULL,\n",
    "                            DEPT_ID CHAR(9),\n",
    "                            PRIMARY KEY (EMPL_ID,JOBS_ID));\n",
    "\n",
    " CREATE TABLE JOBS (\n",
    "                            JOB_IDENT CHAR(9) NOT NULL, \n",
    "                            JOB_TITLE VARCHAR(50) ,\n",
    "                            MIN_SALARY DECIMAL(10,2),\n",
    "                            MAX_SALARY DECIMAL(10,2),\n",
    "                            PRIMARY KEY (JOB_IDENT));\n",
    "\n",
    "CREATE TABLE DEPARTMENT (\n",
    "                            DEPT_ID_DEP CHAR(9) NOT NULL, \n",
    "                            DEP_NAME VARCHAR(20) ,\n",
    "                            MANAGER_ID CHAR(9),\n",
    "                            LOC_ID CHAR(9),\n",
    "                            PRIMARY KEY (DEPT_ID_DEP));\n",
    "\n",
    "CREATE TABLE LOCATIONS (\n",
    "                            LOCT_ID CHAR(9) NOT NULL,\n",
    "                            DEP_ID_LOC CHAR(9) NOT NULL,\n",
    "                            PRIMARY KEY (LOCT_ID,DEP_ID_LOC));\n",
    "                            \n",
    "-- Query 1: All employees whose address is in Elgin, IL\n",
    "select * from EMPLOYEES where ADDRESS like '%Elgin,IL';\n",
    "\n",
    "--Query 2: Born during 1970s\n",
    "select * from EMPLOYEES where B_DATE like '197%';\n",
    "\n",
    "-- Query 3: Employees in Department 5 whose salary is between 60k to 70k\n",
    "select * from EMPLOYEES where DEP_ID = 5 AND SALARY between 60000 and 70000;\n",
    "\n",
    "--Query 4A: order by department ID\n",
    "select * from EMPLOYEES order by DEP_ID;\n",
    "\n",
    "--Query 4B: dep_id descending and within each department ordered alphabetically by last name descending\n",
    "select * from EMPLOYEES order by DEP_ID desc, L_NAME desc;\n",
    "\n",
    "--Query 5A: retrieve number of employees in each department\n",
    "select DEP_ID, count(*) as count from EMPLOYEES group by DEP_ID;\n",
    "\n",
    "--Query 5B: number of employees in department, and avg employee salary in dept.\n",
    "select DEP_ID, count(*) as num_employees, avg(SALARY) as \"AVG_SALARY\" from EMPLOYEES group by DEP_ID;\n",
    "\n",
    "--Query 5C: Rename columns in Query 5B\n",
    "select DEP_ID, count(*) as num_employees, avg(SALARY) as \"AVG_SALARY\" from EMPLOYEES group by DEP_ID; \n",
    "\n",
    "--Query 5D: order Query 5C result set by average salary\n",
    "select DEP_ID, count(*) as num_employees, avg(SALARY) as \"AVG_SALARY\" from EMPLOYEES group by DEP_ID order by AVG_SALARY;\n",
    "\n",
    "--Query 5E: limit results in Query 5D to departments with fewer than 4 employees\n",
    "select DEP_ID, avg(SALARY) as \"AVG_SALARY\" from EMPLOYEES group by DEP_ID having count(DEP_ID) < 4 order by AVG_SALARY;\n",
    "\n",
    "--Query 6: similar to 4B but instead of DEP_ID use department name from the DEPARTMENT table\n",
    "\n",
    "select DEPARTMENT.DEP_NAME, EMPLOYEES.F_NAME, EMPLOYEES.L_NAME from DEPARTMENT, EMPLOYEES where EMPLOYEES.DEP_ID = DEPARTMENT.DEPT_ID_DEP  order by DEP_NAME, L_NAME desc;"
   ]
  }
 ],
 "metadata": {
  "kernelspec": {
   "display_name": "Python 3",
   "language": "python",
   "name": "python3"
  },
  "language_info": {
   "codemirror_mode": {
    "name": "ipython",
    "version": 3
   },
   "file_extension": ".py",
   "mimetype": "text/x-python",
   "name": "python",
   "nbconvert_exporter": "python",
   "pygments_lexer": "ipython3",
   "version": "3.7.4"
  }
 },
 "nbformat": 4,
 "nbformat_minor": 2
}
